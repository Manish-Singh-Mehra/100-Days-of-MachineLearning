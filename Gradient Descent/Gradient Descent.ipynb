{
 "cells": [
  {
   "cell_type": "code",
   "execution_count": 1,
   "id": "a4d70d96",
   "metadata": {},
   "outputs": [],
   "source": [
    "from sklearn.datasets import make_regression\n",
    "import matplotlib.pyplot as plt\n",
    "import numpy as np\n",
    "from sklearn.model_selection import cross_val_score"
   ]
  },
  {
   "cell_type": "code",
   "execution_count": 2,
   "id": "122f1a4c",
   "metadata": {},
   "outputs": [],
   "source": [
    "X,Y = make_regression(n_samples=100, n_features=1, n_informative=1, n_targets=1, noise=20)"
   ]
  },
  {
   "cell_type": "code",
   "execution_count": 3,
   "id": "3446bf21",
   "metadata": {},
   "outputs": [
    {
     "data": {
      "text/plain": [
       "<matplotlib.collections.PathCollection at 0x19b64fde210>"
      ]
     },
     "execution_count": 3,
     "metadata": {},
     "output_type": "execute_result"
    },
    {
     "data": {
      "image/png": "[encoded data removed]",
      "text/plain": [
       "<Figure size 640x480 with 1 Axes>"
      ]
     },
     "metadata": {},
     "output_type": "display_data"
    }
   ],
   "source": [
    "plt.scatter(X,Y)"
   ]
  },
  {
   "cell_type": "code",
   "execution_count": 4,
   "id": "470ca24d",
   "metadata": {},
   "outputs": [],
   "source": [
    "from sklearn.model_selection import train_test_split\n",
    "X_train, X_test, Y_train, Y_test = train_test_split(X,Y, test_size=0.2, random_state=2)"
   ]
  },
  {
   "cell_type": "code",
   "execution_count": 5,
   "id": "41b83137",
   "metadata": {},
   "outputs": [],
   "source": [
    "from sklearn.linear_model import LinearRegression"
   ]
  },
  {
   "cell_type": "code",
   "execution_count": 6,
   "id": "700e6782",
   "metadata": {},
   "outputs": [],
   "source": [
    "lr = LinearRegression()"
   ]
  },
  {
   "cell_type": "code",
   "execution_count": 7,
   "id": "8f8a128c",
   "metadata": {},
   "outputs": [
    {
     "data": {
      "text/html": [
       "<style>#sk-container-id-1 {color: black;}#sk-container-id-1 pre{padding: 0;}#sk-container-id-1 div.sk-toggleable {background-color: white;}#sk-container-id-1 label.sk-toggleable__label {cursor: pointer;display: block;width: 100%;margin-bottom: 0;padding: 0.3em;box-sizing: border-box;text-align: center;}#sk-container-id-1 label.sk-toggleable__label-arrow:before {content: \"▸\";float: left;margin-right: 0.25em;color: #696969;}#sk-container-id-1 label.sk-toggleable__label-arrow:hover:before {color: black;}#sk-container-id-1 div.sk-estimator:hover label.sk-toggleable__label-arrow:before {color: black;}#sk-container-id-1 div.sk-toggleable__content {max-height: 0;max-width: 0;overflow: hidden;text-align: left;background-color: #f0f8ff;}#sk-container-id-1 div.sk-toggleable__content pre {margin: 0.2em;color: black;border-radius: 0.25em;background-color: #f0f8ff;}#sk-container-id-1 input.sk-toggleable__control:checked~div.sk-toggleable__content {max-height: 200px;max-width: 100%;overflow: auto;}#sk-container-id-1 input.sk-toggleable__control:checked~label.sk-toggleable__label-arrow:before {content: \"▾\";}#sk-container-id-1 div.sk-estimator input.sk-toggleable__control:checked~label.sk-toggleable__label {background-color: #d4ebff;}#sk-container-id-1 div.sk-label input.sk-toggleable__control:checked~label.sk-toggleable__label {background-color: #d4ebff;}#sk-container-id-1 input.sk-hidden--visually {border: 0;clip: rect(1px 1px 1px 1px);clip: rect(1px, 1px, 1px, 1px);height: 1px;margin: -1px;overflow: hidden;padding: 0;position: absolute;width: 1px;}#sk-container-id-1 div.sk-estimator {font-family: monospace;background-color: #f0f8ff;border: 1px dotted black;border-radius: 0.25em;box-sizing: border-box;margin-bottom: 0.5em;}#sk-container-id-1 div.sk-estimator:hover {background-color: #d4ebff;}#sk-container-id-1 div.sk-parallel-item::after {content: \"\";width: 100%;border-bottom: 1px solid gray;flex-grow: 1;}#sk-container-id-1 div.sk-label:hover label.sk-toggleable__label {background-color: #d4ebff;}#sk-container-id-1 div.sk-serial::before {content: \"\";position: absolute;border-left: 1px solid gray;box-sizing: border-box;top: 0;bottom: 0;left: 50%;z-index: 0;}#sk-container-id-1 div.sk-serial {display: flex;flex-direction: column;align-items: center;background-color: white;padding-right: 0.2em;padding-left: 0.2em;position: relative;}#sk-container-id-1 div.sk-item {position: relative;z-index: 1;}#sk-container-id-1 div.sk-parallel {display: flex;align-items: stretch;justify-content: center;background-color: white;position: relative;}#sk-container-id-1 div.sk-item::before, #sk-container-id-1 div.sk-parallel-item::before {content: \"\";position: absolute;border-left: 1px solid gray;box-sizing: border-box;top: 0;bottom: 0;left: 50%;z-index: -1;}#sk-container-id-1 div.sk-parallel-item {display: flex;flex-direction: column;z-index: 1;position: relative;background-color: white;}#sk-container-id-1 div.sk-parallel-item:first-child::after {align-self: flex-end;width: 50%;}#sk-container-id-1 div.sk-parallel-item:last-child::after {align-self: flex-start;width: 50%;}#sk-container-id-1 div.sk-parallel-item:only-child::after {width: 0;}#sk-container-id-1 div.sk-dashed-wrapped {border: 1px dashed gray;margin: 0 0.4em 0.5em 0.4em;box-sizing: border-box;padding-bottom: 0.4em;background-color: white;}#sk-container-id-1 div.sk-label label {font-family: monospace;font-weight: bold;display: inline-block;line-height: 1.2em;}#sk-container-id-1 div.sk-label-container {text-align: center;}#sk-container-id-1 div.sk-container {/* jupyter's `normalize.less` sets `[hidden] { display: none; }` but bootstrap.min.css set `[hidden] { display: none !important; }` so we also need the `!important` here to be able to override the default hidden behavior on the sphinx rendered scikit-learn.org. See: https://github.com/scikit-learn/scikit-learn/issues/21755 */display: inline-block !important;position: relative;}#sk-container-id-1 div.sk-text-repr-fallback {display: none;}</style><div id=\"sk-container-id-1\" class=\"sk-top-container\"><div class=\"sk-text-repr-fallback\"><pre>LinearRegression()</pre><b>In a Jupyter environment, please rerun this cell to show the HTML representation or trust the notebook. <br />On GitHub, the HTML representation is unable to render, please try loading this page with nbviewer.org.</b></div><div class=\"sk-container\" hidden><div class=\"sk-item\"><div class=\"sk-estimator sk-toggleable\"><input class=\"sk-toggleable__control sk-hidden--visually\" id=\"sk-estimator-id-1\" type=\"checkbox\" checked><label for=\"sk-estimator-id-1\" class=\"sk-toggleable__label sk-toggleable__label-arrow\">LinearRegression</label><div class=\"sk-toggleable__content\"><pre>LinearRegression()</pre></div></div></div></div></div>"
      ],
      "text/plain": [
       "LinearRegression()"
      ]
     },
     "execution_count": 7,
     "metadata": {},
     "output_type": "execute_result"
    }
   ],
   "source": [
    "lr.fit(X_train,Y_train)"
   ]
  },
  {
   "cell_type": "code",
   "execution_count": 8,
   "id": "539ce830",
   "metadata": {},
   "outputs": [
    {
     "name": "stdout",
     "output_type": "stream",
     "text": [
      "[33.17192149]\n",
      "-0.08078842753380266\n"
     ]
    }
   ],
   "source": [
    "print(lr.coef_)\n",
    "print(lr.intercept_)"
   ]
  },
  {
   "cell_type": "code",
   "execution_count": 10,
   "id": "17ace2c5",
   "metadata": {},
   "outputs": [
    {
     "data": {
      "text/plain": [
       "0.5677093252185942"
      ]
     },
     "execution_count": 10,
     "metadata": {},
     "output_type": "execute_result"
    }
   ],
   "source": [
    "Y_pred = lr.predict(X_test)\n",
    "from sklearn.metrics import r2_score\n",
    "r2_score(Y_test, Y_pred)"
   ]
  },
  {
   "cell_type": "code",
   "execution_count": 11,
   "id": "5099b5da",
   "metadata": {},
   "outputs": [],
   "source": [
    "class GDregressor:\n",
    "    \n",
    "    def __init__(self, learning_rate, epochs):\n",
    "        self.m = 100\n",
    "        self.b = -120\n",
    "        self.lr = learning_rate\n",
    "        self.epochs = epochs\n",
    "        \n",
    "    def fit(self,X,Y):\n",
    "        # calculate the b using GD\n",
    "        for i in range(self.epochs):\n",
    "            loss_slope_b = -2 * np.sum(Y - self.m*X.ravel() - self.b)\n",
    "            loss_slope_m = -2 * np.sum((Y - self.m*X.ravel() - self.b)*X.ravel())\n",
    "            self.b = self.b -(self.lr * loss_slope_b)\n",
    "            self.m = self.m -(self.lr * loss_slope_m)\n",
    "            \n",
    "        print(self.m, self.b)\n",
    "        \n",
    "    def predict(self, X):\n",
    "        return self.m *X + self.b"
   ]
  },
  {
   "cell_type": "code",
   "execution_count": 12,
   "id": "b32e8797",
   "metadata": {},
   "outputs": [],
   "source": [
    "gd = GDregressor(0.001, 100)"
   ]
  },
  {
   "cell_type": "code",
   "execution_count": 13,
   "id": "46523ab9",
   "metadata": {},
   "outputs": [
    {
     "name": "stdout",
     "output_type": "stream",
     "text": [
      "33.171925012617216 -0.08079232672373275\n"
     ]
    }
   ],
   "source": [
    "gd.fit(X_train,Y_train)"
   ]
  },
  {
   "cell_type": "code",
   "execution_count": 14,
   "id": "4954ef3c",
   "metadata": {
    "scrolled": true
   },
   "outputs": [
    {
     "data": {
      "text/plain": [
       "array([[  1.12997612],\n",
       "       [  8.20870753],\n",
       "       [ 17.33725772],\n",
       "       [ -0.80324763],\n",
       "       [-25.80026743],\n",
       "       [  1.19759041],\n",
       "       [ 72.18515413],\n",
       "       [ 27.06866144],\n",
       "       [ 18.19830233],\n",
       "       [  5.97055067],\n",
       "       [  7.01096238],\n",
       "       [-10.52296938],\n",
       "       [-12.93568213],\n",
       "       [ 41.75132345],\n",
       "       [ 87.69177213],\n",
       "       [ -5.93407085],\n",
       "       [-11.16248865],\n",
       "       [ 61.50493968],\n",
       "       [ -5.71790844],\n",
       "       [-14.84855369],\n",
       "       [ 12.90405869],\n",
       "       [  9.06077376],\n",
       "       [-18.22321963],\n",
       "       [ 16.17631906],\n",
       "       [-44.22525116],\n",
       "       [ 47.78319473],\n",
       "       [ 54.68832279],\n",
       "       [ -8.58325024],\n",
       "       [ 30.60126643],\n",
       "       [ -9.54226215],\n",
       "       [ -4.07062758],\n",
       "       [  0.78066824],\n",
       "       [ 52.92289196],\n",
       "       [-39.16509383],\n",
       "       [-48.29589466],\n",
       "       [ -8.9321312 ],\n",
       "       [-93.12237586],\n",
       "       [-38.31647122],\n",
       "       [ 12.03870683],\n",
       "       [ 41.20542047],\n",
       "       [-22.44680343],\n",
       "       [ 39.33071994],\n",
       "       [ 70.89719805],\n",
       "       [-11.95518846],\n",
       "       [-35.69358838],\n",
       "       [ 16.08070134],\n",
       "       [-17.75695106],\n",
       "       [-30.33374548],\n",
       "       [  1.29853984],\n",
       "       [-24.08194521],\n",
       "       [ 51.14415233],\n",
       "       [ 29.20190669],\n",
       "       [-20.63407908],\n",
       "       [-39.30920552],\n",
       "       [-25.67735547],\n",
       "       [-21.82142706],\n",
       "       [ 47.11655625],\n",
       "       [ 38.08160008],\n",
       "       [ 22.26246058],\n",
       "       [-32.42301896],\n",
       "       [ -4.94521685],\n",
       "       [ 43.05473271],\n",
       "       [-36.3880699 ],\n",
       "       [ -7.70159398],\n",
       "       [ 37.12375313],\n",
       "       [ 26.33846442],\n",
       "       [ 12.26205719],\n",
       "       [-73.25629842],\n",
       "       [-28.6570915 ],\n",
       "       [ 39.7307251 ],\n",
       "       [-46.08416263],\n",
       "       [ -6.78145332],\n",
       "       [ -3.66777264],\n",
       "       [-10.2271005 ],\n",
       "       [-44.29524611],\n",
       "       [ 14.28247885],\n",
       "       [ 21.54560644],\n",
       "       [  4.48993107],\n",
       "       [ -0.17498443],\n",
       "       [ 27.36822301],\n",
       "       [-18.16791111],\n",
       "       [ 32.86313968],\n",
       "       [ 55.12934586],\n",
       "       [  2.53554245],\n",
       "       [-19.84769806],\n",
       "       [ 14.04895001],\n",
       "       [-13.88415317],\n",
       "       [-64.09097416],\n",
       "       [ 43.65313823],\n",
       "       [-12.72969052],\n",
       "       [  3.19724412],\n",
       "       [ 18.55114335],\n",
       "       [ -5.47585272],\n",
       "       [-14.63627209],\n",
       "       [ -6.684561  ],\n",
       "       [ 46.19998792],\n",
       "       [-11.80858237],\n",
       "       [  0.29902985],\n",
       "       [ 18.33250051],\n",
       "       [ 26.92551555]])"
      ]
     },
     "execution_count": 14,
     "metadata": {},
     "output_type": "execute_result"
    }
   ],
   "source": [
    "gd.predict(X)"
   ]
  },
  {
   "cell_type": "code",
   "execution_count": 16,
   "id": "796b541f",
   "metadata": {},
   "outputs": [
    {
     "data": {
      "text/plain": [
       "0.5677093253527665"
      ]
     },
     "execution_count": 16,
     "metadata": {},
     "output_type": "execute_result"
    }
   ],
   "source": [
    "Y_pred = gd.predict(X_test)\n",
    "from sklearn.metrics import r2_score\n",
    "r2_score(Y_test, Y_pred)"
   ]
  }
 ],
 "metadata": {
  "kernelspec": {
   "display_name": "Python 3 (ipykernel)",
   "language": "python",
   "name": "python3"
  },
  "language_info": {
   "codemirror_mode": {
    "name": "ipython",
    "version": 3
   },
   "file_extension": ".py",
   "mimetype": "text/x-python",
   "name": "python",
   "nbconvert_exporter": "python",
   "pygments_lexer": "ipython3",
   "version": "3.11.4"
  }
 },
 "nbformat": 4,
 "nbformat_minor": 5
}
